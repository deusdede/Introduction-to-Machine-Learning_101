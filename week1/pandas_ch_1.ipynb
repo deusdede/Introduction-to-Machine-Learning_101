{
 "cells": [
  {
   "cell_type": "code",
   "execution_count": null,
   "metadata": {},
   "outputs": [],
   "source": [
    "import pandas as pd"
   ]
  },
  {
   "cell_type": "code",
   "execution_count": null,
   "metadata": {},
   "outputs": [],
   "source": [
    "filepath = 'Iris_Data.csv'\n"
   ]
  },
  {
   "cell_type": "code",
   "execution_count": null,
   "metadata": {},
   "outputs": [],
   "source": [
    "data = pd.read_csv(filepath)"
   ]
  },
  {
   "cell_type": "code",
   "execution_count": 9,
   "metadata": {},
   "outputs": [],
   "source": [
    "#criar uma nova coluna"
   ]
  },
  {
   "cell_type": "code",
   "execution_count": 10,
   "metadata": {},
   "outputs": [],
   "source": [
    "data['sepal_area'] = data.sepal_length*data.sepal_width"
   ]
  },
  {
   "cell_type": "code",
   "execution_count": null,
   "metadata": {},
   "outputs": [],
   "source": [
    "# imprimir 5 linhas e as 4 últimas colunas"
   ]
  },
  {
   "cell_type": "code",
   "execution_count": 16,
   "metadata": {},
   "outputs": [
    {
     "name": "stdout",
     "output_type": "stream",
     "text": [
      "   petal_length  petal_width      species  sepal_area\n",
      "0           1.4          0.2  Iris-setosa       17.85\n",
      "1           1.4          0.2  Iris-setosa       14.70\n",
      "2           1.3          0.2  Iris-setosa       15.04\n",
      "3           1.5          0.2  Iris-setosa       14.26\n",
      "4           1.4          0.2  Iris-setosa       18.00\n"
     ]
    }
   ],
   "source": [
    "print(data.iloc[:5,-4:])"
   ]
  },
  {
   "cell_type": "code",
   "execution_count": 18,
   "metadata": {},
   "outputs": [],
   "source": [
    "data['abbrev'] = (data\n",
    ".species\n",
    ".apply(lambda x:\n",
    "x.replace('Iris-','')))"
   ]
  },
  {
   "cell_type": "code",
   "execution_count": 19,
   "metadata": {},
   "outputs": [
    {
     "name": "stdout",
     "output_type": "stream",
     "text": [
      "   petal_width      species  sepal_area  abbrev\n",
      "0          0.2  Iris-setosa       17.85  setosa\n",
      "1          0.2  Iris-setosa       14.70  setosa\n",
      "2          0.2  Iris-setosa       15.04  setosa\n",
      "3          0.2  Iris-setosa       14.26  setosa\n",
      "4          0.2  Iris-setosa       18.00  setosa\n"
     ]
    }
   ],
   "source": [
    "print(data.iloc[:5,-4:])"
   ]
  },
  {
   "cell_type": "code",
   "execution_count": 21,
   "metadata": {},
   "outputs": [
    {
     "name": "stdout",
     "output_type": "stream",
     "text": [
      "     petal_width         species  sepal_area     abbrev\n",
      "0            0.2     Iris-setosa       17.85     setosa\n",
      "1            0.2     Iris-setosa       14.70     setosa\n",
      "148          2.3  Iris-virginica       21.08  virginica\n",
      "149          1.8  Iris-virginica       17.70  virginica\n"
     ]
    }
   ],
   "source": [
    "small_data = pd.concat([data.iloc[:2], data.iloc[-2:]])\n",
    "print(small_data.iloc[:,-4:])"
   ]
  },
  {
   "cell_type": "code",
   "execution_count": 24,
   "metadata": {},
   "outputs": [],
   "source": [
    "qt_species = (data.groupby('species').size())"
   ]
  },
  {
   "cell_type": "code",
   "execution_count": 25,
   "metadata": {},
   "outputs": [
    {
     "name": "stdout",
     "output_type": "stream",
     "text": [
      "species\n",
      "Iris-setosa        50\n",
      "Iris-versicolor    50\n",
      "Iris-virginica     50\n",
      "dtype: int64\n"
     ]
    }
   ],
   "source": [
    "print(qt_species)"
   ]
  },
  {
   "cell_type": "code",
   "execution_count": 29,
   "metadata": {},
   "outputs": [
    {
     "name": "stdout",
     "output_type": "stream",
     "text": [
      "sepal_length     5.843333\n",
      "sepal_width      3.054000\n",
      "petal_length     3.758667\n",
      "petal_width      1.198667\n",
      "sepal_area      17.806533\n",
      "dtype: float64\n"
     ]
    }
   ],
   "source": [
    "print(data.mean())"
   ]
  },
  {
   "cell_type": "code",
   "execution_count": 32,
   "metadata": {},
   "outputs": [
    {
     "name": "stdout",
     "output_type": "stream",
     "text": [
      "4.35\n"
     ]
    }
   ],
   "source": [
    "print(data.petal_length.median())"
   ]
  },
  {
   "cell_type": "code",
   "execution_count": null,
   "metadata": {},
   "outputs": [],
   "source": [
    "# moda - valor que mais aparece na amostra"
   ]
  },
  {
   "cell_type": "code",
   "execution_count": 33,
   "metadata": {},
   "outputs": [
    {
     "name": "stdout",
     "output_type": "stream",
     "text": [
      "0    1.5\n",
      "dtype: float64\n"
     ]
    }
   ],
   "source": [
    "print(data.petal_length.mode())"
   ]
  },
  {
   "cell_type": "code",
   "execution_count": 38,
   "metadata": {},
   "outputs": [
    {
     "name": "stdout",
     "output_type": "stream",
     "text": [
      "     sepal_length  sepal_width  petal_length  petal_width         species  \\\n",
      "0             5.1          3.5           1.4          0.2     Iris-setosa   \n",
      "1             4.9          3.0           1.4          0.2     Iris-setosa   \n",
      "2             4.7          3.2           1.3          0.2     Iris-setosa   \n",
      "3             4.6          3.1           1.5          0.2     Iris-setosa   \n",
      "4             5.0          3.6           1.4          0.2     Iris-setosa   \n",
      "5             5.4          3.9           1.7          0.4     Iris-setosa   \n",
      "6             4.6          3.4           1.4          0.3     Iris-setosa   \n",
      "7             5.0          3.4           1.5          0.2     Iris-setosa   \n",
      "8             4.4          2.9           1.4          0.2     Iris-setosa   \n",
      "9             4.9          3.1           1.5          0.1     Iris-setosa   \n",
      "10            5.4          3.7           1.5          0.2     Iris-setosa   \n",
      "11            4.8          3.4           1.6          0.2     Iris-setosa   \n",
      "12            4.8          3.0           1.4          0.1     Iris-setosa   \n",
      "13            4.3          3.0           1.1          0.1     Iris-setosa   \n",
      "14            5.8          4.0           1.2          0.2     Iris-setosa   \n",
      "15            5.7          4.4           1.5          0.4     Iris-setosa   \n",
      "16            5.4          3.9           1.3          0.4     Iris-setosa   \n",
      "17            5.1          3.5           1.4          0.3     Iris-setosa   \n",
      "18            5.7          3.8           1.7          0.3     Iris-setosa   \n",
      "19            5.1          3.8           1.5          0.3     Iris-setosa   \n",
      "20            5.4          3.4           1.7          0.2     Iris-setosa   \n",
      "21            5.1          3.7           1.5          0.4     Iris-setosa   \n",
      "22            4.6          3.6           1.0          0.2     Iris-setosa   \n",
      "23            5.1          3.3           1.7          0.5     Iris-setosa   \n",
      "24            4.8          3.4           1.9          0.2     Iris-setosa   \n",
      "25            5.0          3.0           1.6          0.2     Iris-setosa   \n",
      "26            5.0          3.4           1.6          0.4     Iris-setosa   \n",
      "27            5.2          3.5           1.5          0.2     Iris-setosa   \n",
      "28            5.2          3.4           1.4          0.2     Iris-setosa   \n",
      "29            4.7          3.2           1.6          0.2     Iris-setosa   \n",
      "..            ...          ...           ...          ...             ...   \n",
      "120           6.9          3.2           5.7          2.3  Iris-virginica   \n",
      "121           5.6          2.8           4.9          2.0  Iris-virginica   \n",
      "122           7.7          2.8           6.7          2.0  Iris-virginica   \n",
      "123           6.3          2.7           4.9          1.8  Iris-virginica   \n",
      "124           6.7          3.3           5.7          2.1  Iris-virginica   \n",
      "125           7.2          3.2           6.0          1.8  Iris-virginica   \n",
      "126           6.2          2.8           4.8          1.8  Iris-virginica   \n",
      "127           6.1          3.0           4.9          1.8  Iris-virginica   \n",
      "128           6.4          2.8           5.6          2.1  Iris-virginica   \n",
      "129           7.2          3.0           5.8          1.6  Iris-virginica   \n",
      "130           7.4          2.8           6.1          1.9  Iris-virginica   \n",
      "131           7.9          3.8           6.4          2.0  Iris-virginica   \n",
      "132           6.4          2.8           5.6          2.2  Iris-virginica   \n",
      "133           6.3          2.8           5.1          1.5  Iris-virginica   \n",
      "134           6.1          2.6           5.6          1.4  Iris-virginica   \n",
      "135           7.7          3.0           6.1          2.3  Iris-virginica   \n",
      "136           6.3          3.4           5.6          2.4  Iris-virginica   \n",
      "137           6.4          3.1           5.5          1.8  Iris-virginica   \n",
      "138           6.0          3.0           4.8          1.8  Iris-virginica   \n",
      "139           6.9          3.1           5.4          2.1  Iris-virginica   \n",
      "140           6.7          3.1           5.6          2.4  Iris-virginica   \n",
      "141           6.9          3.1           5.1          2.3  Iris-virginica   \n",
      "142           5.8          2.7           5.1          1.9  Iris-virginica   \n",
      "143           6.8          3.2           5.9          2.3  Iris-virginica   \n",
      "144           6.7          3.3           5.7          2.5  Iris-virginica   \n",
      "145           6.7          3.0           5.2          2.3  Iris-virginica   \n",
      "146           6.3          2.5           5.0          1.9  Iris-virginica   \n",
      "147           6.5          3.0           5.2          2.0  Iris-virginica   \n",
      "148           6.2          3.4           5.4          2.3  Iris-virginica   \n",
      "149           5.9          3.0           5.1          1.8  Iris-virginica   \n",
      "\n",
      "     sepal_area     abbrev  \n",
      "0         17.85     setosa  \n",
      "1         14.70     setosa  \n",
      "2         15.04     setosa  \n",
      "3         14.26     setosa  \n",
      "4         18.00     setosa  \n",
      "5         21.06     setosa  \n",
      "6         15.64     setosa  \n",
      "7         17.00     setosa  \n",
      "8         12.76     setosa  \n",
      "9         15.19     setosa  \n",
      "10        19.98     setosa  \n",
      "11        16.32     setosa  \n",
      "12        14.40     setosa  \n",
      "13        12.90     setosa  \n",
      "14        23.20     setosa  \n",
      "15        25.08     setosa  \n",
      "16        21.06     setosa  \n",
      "17        17.85     setosa  \n",
      "18        21.66     setosa  \n",
      "19        19.38     setosa  \n",
      "20        18.36     setosa  \n",
      "21        18.87     setosa  \n",
      "22        16.56     setosa  \n",
      "23        16.83     setosa  \n",
      "24        16.32     setosa  \n",
      "25        15.00     setosa  \n",
      "26        17.00     setosa  \n",
      "27        18.20     setosa  \n",
      "28        17.68     setosa  \n",
      "29        15.04     setosa  \n",
      "..          ...        ...  \n",
      "120       22.08  virginica  \n",
      "121       15.68  virginica  \n",
      "122       21.56  virginica  \n",
      "123       17.01  virginica  \n",
      "124       22.11  virginica  \n",
      "125       23.04  virginica  \n",
      "126       17.36  virginica  \n",
      "127       18.30  virginica  \n",
      "128       17.92  virginica  \n",
      "129       21.60  virginica  \n",
      "130       20.72  virginica  \n",
      "131       30.02  virginica  \n",
      "132       17.92  virginica  \n",
      "133       17.64  virginica  \n",
      "134       15.86  virginica  \n",
      "135       23.10  virginica  \n",
      "136       21.42  virginica  \n",
      "137       19.84  virginica  \n",
      "138       18.00  virginica  \n",
      "139       21.39  virginica  \n",
      "140       20.77  virginica  \n",
      "141       21.39  virginica  \n",
      "142       15.66  virginica  \n",
      "143       21.76  virginica  \n",
      "144       22.11  virginica  \n",
      "145       20.10  virginica  \n",
      "146       15.75  virginica  \n",
      "147       19.50  virginica  \n",
      "148       21.08  virginica  \n",
      "149       17.70  virginica  \n",
      "\n",
      "[150 rows x 7 columns]\n"
     ]
    }
   ],
   "source": [
    "print(data)"
   ]
  },
  {
   "cell_type": "code",
   "execution_count": 39,
   "metadata": {},
   "outputs": [
    {
     "name": "stdout",
     "output_type": "stream",
     "text": [
      "sepal_length     4.3\n",
      "sepal_width      2.0\n",
      "petal_length     1.0\n",
      "petal_width      0.1\n",
      "sepal_area      10.0\n",
      "Name: 0, dtype: float64\n"
     ]
    }
   ],
   "source": [
    "print(data.quantile(0))"
   ]
  },
  {
   "cell_type": "code",
   "execution_count": 40,
   "metadata": {},
   "outputs": [
    {
     "name": "stdout",
     "output_type": "stream",
     "text": [
      "       sepal_length  sepal_width  petal_length  petal_width  sepal_area\n",
      "count    150.000000   150.000000    150.000000   150.000000  150.000000\n",
      "mean       5.843333     3.054000      3.758667     1.198667   17.806533\n",
      "std        0.828066     0.433594      1.764420     0.763161    3.368693\n",
      "min        4.300000     2.000000      1.000000     0.100000   10.000000\n",
      "25%        5.100000     2.800000      1.600000     0.300000   15.645000\n",
      "50%        5.800000     3.000000      4.350000     1.300000   17.660000\n",
      "75%        6.400000     3.300000      5.100000     1.800000   20.325000\n",
      "max        7.900000     4.400000      6.900000     2.500000   30.020000\n"
     ]
    }
   ],
   "source": [
    "print(data.describe())"
   ]
  },
  {
   "cell_type": "code",
   "execution_count": 48,
   "metadata": {},
   "outputs": [
    {
     "name": "stdout",
     "output_type": "stream",
     "text": [
      "             species  sepal_area      abbrev\n",
      "119   Iris-virginica       13.20   virginica\n",
      "128   Iris-virginica       17.92   virginica\n",
      "135   Iris-virginica       23.10   virginica\n",
      "91   Iris-versicolor       18.30  versicolor\n",
      "112   Iris-virginica       20.40   virginica\n"
     ]
    }
   ],
   "source": [
    "sample = (data.sample(n=5,replace=False,random_state=41))\n",
    "print(sample.iloc[:,-3:])"
   ]
  }
 ],
 "metadata": {
  "kernelspec": {
   "display_name": "Python 3",
   "language": "python",
   "name": "python3"
  },
  "language_info": {
   "codemirror_mode": {
    "name": "ipython",
    "version": 3
   },
   "file_extension": ".py",
   "mimetype": "text/x-python",
   "name": "python",
   "nbconvert_exporter": "python",
   "pygments_lexer": "ipython3",
   "version": "3.6.3"
  }
 },
 "nbformat": 4,
 "nbformat_minor": 2
}
